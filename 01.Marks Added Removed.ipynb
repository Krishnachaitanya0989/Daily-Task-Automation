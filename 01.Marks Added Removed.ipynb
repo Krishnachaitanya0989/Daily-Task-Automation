{
 "cells": [
  {
   "cell_type": "code",
   "execution_count": 1,
   "metadata": {},
   "outputs": [],
   "source": [
    "import pandas as pd\n",
    "import re"
   ]
  },
  {
   "cell_type": "code",
   "execution_count": 2,
   "metadata": {},
   "outputs": [],
   "source": [
    "# Raw list of tickers extracted from Reed's letter\n",
    "text_long = \"\"\"\n",
    "FTAI, FIX, WWD, VRT, EME, APP, ITRI, TDW, AVAV, IESC, GDDY, COOP, RCL,\n",
    "KALU, CRS, MLR, SUPV, FCNCA, STRA, THC, EQH, PINS, REVG, ALKT, MOD, ODC, SEMR, STRL, BLBD, HY.\n",
    "\"\"\"\n",
    "\n",
    "text_long_big = \"\"\"\n",
    "FTAI ATH e7/24, AROC ATHr56.15 e7/29, FIX ATH e7/24, WWD ATH e7/29, VRT td&ta ATH e7/31, EME ATH e7/25,\n",
    "APP td&ta ATHr 116.09 e8/07, PGR td&ta ATH e7/11, WFRD ta ATH e7/24, VITL td ATHr43.3 e5/9, TCOM td&ta\n",
    "ATHr60.65 e5/22, ITRI ta ATHr122.31 e8/1, TDW td&ta e8/1, HMY td mr15.73 e8/27, AVAV td ATH e6/25, ADMA td&ta\n",
    "mr6.96 e5/9, NRG td&ta ATH e8/7, HBM td&ta mr9.6 e5/14, IESC ta ATH e8/2, GDDY ATH e8/1, FTI td ATH e7/24, WT\n",
    "mr13.41 e7/26, COOP td&ta ATH e7/24, RCL td ATH e7/25, ETRN td&ta mr23.47 e7/30, ALL td&ta ATH e7/31, MCY td&ta\n",
    "mr67.88 e7/30 , EGO ta mr25.8 e7/25, REX td ATH e5/22, CCJ td mr52.64 & ATHr56 e7/24, KALU td&ta ATHr 141.07 e7/24 ,\n",
    "CRS td ATH e8/1, MLR ATH e8/7, SUPV td&ta mr11.62 e5/22, FCNCA td ATH e7/30, STRA td&ta mr187.98 e7/24, THC\n",
    "ATHr 210 e7/15, EQH ATH e7/31, PINS ta ATHr89.9 e7/30, ARLO td&ta ATHr 23.77 e5/9, REVG ta ATHr 33.15 e6/5 , ALKT\n",
    "td&ta ATHr 49.32 e7/31, AMZN td ATHr 189.77 e7/25, MBIN ATHr 48.68 e7/25, SHAK td&ta mr 110.9 & ATHr 138.38 e8/1,\n",
    "SKWD ta ATHr 38.64 e8/6, SLM td&ta ATH e7/24, MOD ATH 5/22, NU td&ta ATHr 12.39 e5/14, ODC td&ta ATH e6/6, SEMR\n",
    "td ATHr32.48 e8/6, STRL ATH e8/5, BLBD td ATH e8/7, HY ta mr102.17 e7/30, KEX ATH124.12 e7/25 (LPG td&ta ATHr\n",
    "49.54 e5/23, MMYT td&ta ATHr 77.3 e5/15) Remember strong volume tends to lead the price. We now have included new lists,\n",
    "short-term adding opps worth hunting for in: FTAI, FIX, WWD, VRT, EME, APP, ITRI, TDW, AVAV, IESC, GDDY, COOP, RCL,\n",
    "KALU, CRS, MLR, SUPV, FCNCA, STRA, THC, EQH, PINS, REVG, ALKT, MOD, ODC, SEMR, STRL, BLBD, HY.\n",
    "\"\"\"\n",
    "\n",
    "text_short = \"\"\"\n",
    "FWRD e5/22, KYTX e5//29, NVRO e7/31, (); [WBA e6.27, PTLO e8/1, ];\n",
    "\"\"\""
   ]
  },
  {
   "cell_type": "code",
   "execution_count": 3,
   "metadata": {},
   "outputs": [],
   "source": [
    "# Uses RE to extract tickers from raw list, drop duplicates and export list to excel\n",
    "def mark_list_to_csv(text, date, direction):\n",
    "    pattern = re.compile(r\"N/A|ATH\")\n",
    "    sub_string = pattern.sub(r\"\", text)\n",
    "    tick_list = re.findall(r\"[A-Z]+\\b\", sub_string)\n",
    "    text_df = pd.DataFrame(tick_list, columns=['Ticker'])\n",
    "    text_df = text_df.drop_duplicates()\n",
    "    file_name = f\"C:/Users/krish/OneDrive/Desktop/DailyStalking/markListd{date}-{direction}.xlsx\"\n",
    "    if direction == \"long\" or direction == \"short\":\n",
    "        print(f\"{direction}:\", ', '.join(tick_list))\n",
    "        text_df.to_excel(file_name, header=True, index=False, columns=['Ticker'])\n",
    "    else:\n",
    "        text_df.to_excel(file_name, header=True, index=False, columns=['Ticker'])"
   ]
  },
  {
   "cell_type": "code",
   "execution_count": 4,
   "metadata": {},
   "outputs": [],
   "source": [
    "# Compares current lists with last day's list and gives delta\n",
    "\n",
    "import pandas as pd\n",
    "\n",
    "\n",
    "def delta(direction, date, old_date):\n",
    "    mark_short = pd.read_excel(f\"C:/Users/krish/OneDrive/Desktop/DailyStalking/markListd{date}-{direction}.xlsx\",\n",
    "                                 usecols=[0], names=['Ticker'])\n",
    "    tick_list = mark_short[\"Ticker\"].to_list()\n",
    "    mark_short_old = pd.read_excel(f\"C:/Users/krish/OneDrive/Desktop/DailyStalking/markListd{old_date}-{direction}.xlsx\",\n",
    "                                usecols=[0], names=['Ticker'])\n",
    "    tick_list_old = mark_short_old[\"Ticker\"].to_list()\n",
    "    tickers_removed = [tick for tick in tick_list_old if tick not in tick_list and tick != \"Ticker\"]\n",
    "    tickers_added = [tick for tick in tick_list if tick not in tick_list_old and tick != \"Ticker\"]\n",
    "\n",
    "    if len(tickers_added) > len(tickers_removed):\n",
    "        for tick in range(len(tickers_added) - len(tickers_removed)):\n",
    "            tickers_removed.append(\"\")\n",
    "    elif len(tickers_added) < len(tickers_removed):\n",
    "        for tick in range(len(tickers_removed) - len(tickers_added)):\n",
    "            tickers_added.append(\"\")\n",
    "    data_dict = {\n",
    "        \"Added\": tickers_added,\n",
    "        \"Removed\": tickers_removed\n",
    "    }\n",
    "    data = pd.DataFrame(data_dict)\n",
    "    data.to_excel(f\"C:/Users/krish/OneDrive/Desktop/AddedRemoved/{date}-{direction}.xlsx\")"
   ]
  },
  {
   "cell_type": "code",
   "execution_count": 5,
   "metadata": {},
   "outputs": [
    {
     "name": "stdout",
     "output_type": "stream",
     "text": [
      "long: FTAI, FIX, WWD, VRT, EME, APP, ITRI, TDW, AVAV, IESC, GDDY, COOP, RCL, KALU, CRS, MLR, SUPV, FCNCA, STRA, THC, EQH, PINS, REVG, ALKT, MOD, ODC, SEMR, STRL, BLBD, HY\n",
      "short: FWRD, KYTX, NVRO, WBA, PTLO\n"
     ]
    }
   ],
   "source": [
    "mark_list_to_csv(text=text_long_big, date=\"050924\", direction=\"long-big\")\n",
    "mark_list_to_csv(text=text_long, date=\"050924\", direction=\"long\")\n",
    "mark_list_to_csv(text=text_short, date=\"050924\", direction=\"short\")"
   ]
  },
  {
   "cell_type": "code",
   "execution_count": 6,
   "metadata": {},
   "outputs": [],
   "source": [
    "delta(direction=\"short\", date= \"050924\", old_date=\"050824\")\n",
    "delta(direction=\"long\", date= \"050924\", old_date=\"050824\")"
   ]
  },
  {
   "cell_type": "code",
   "execution_count": null,
   "metadata": {},
   "outputs": [],
   "source": []
  }
 ],
 "metadata": {
  "kernelspec": {
   "display_name": "Python 3",
   "language": "python",
   "name": "python3"
  },
  "language_info": {
   "codemirror_mode": {
    "name": "ipython",
    "version": 3
   },
   "file_extension": ".py",
   "mimetype": "text/x-python",
   "name": "python",
   "nbconvert_exporter": "python",
   "pygments_lexer": "ipython3",
   "version": "3.8.5"
  }
 },
 "nbformat": 4,
 "nbformat_minor": 4
}
