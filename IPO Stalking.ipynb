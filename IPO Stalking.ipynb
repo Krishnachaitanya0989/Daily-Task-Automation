{
 "cells": [
  {
   "cell_type": "code",
   "execution_count": 1,
   "metadata": {},
   "outputs": [],
   "source": [
    "import pandas as pd\n",
    "import time"
   ]
  },
  {
   "cell_type": "code",
   "execution_count": 2,
   "metadata": {},
   "outputs": [],
   "source": [
    "# Reads IPO file downloaded from Marketsmith. Adds required columns and evaluates pre-set rules to give a score\n",
    "\n",
    "def ipo(file, old_date, new_date):\n",
    "    ipo_file = pd.read_excel(f\"C:/Users/krish/Trading Dropbox/Krishna Chaitanya/Process/Stalking/DailyStalking/\"\n",
    "                             f\"2024/05.May/IPO/{file}.xlsx\")\n",
    "\n",
    "    eps = ipo_file[\"EPS % Chg Last Qtr\"].to_list()\n",
    "    sales = ipo_file[\"Sales % Chg Lst Qtr\"].to_list()\n",
    "\n",
    "    eps_afresh = []\n",
    "\n",
    "    for num in eps:\n",
    "        if isinstance(num, int):\n",
    "            eps_afresh.append(num)\n",
    "        else:\n",
    "            eps_afresh.append(0)\n",
    "\n",
    "    sales_afresh = []\n",
    "\n",
    "    for num in sales:\n",
    "        if isinstance(num, int):\n",
    "            sales_afresh.append(num)\n",
    "        else:\n",
    "            sales_afresh.append(0)\n",
    "\n",
    "    ipo_file[\"EPS % Chg Last Qtr\"] = eps_afresh\n",
    "    ipo_file[\"Sales % Chg Lst Qtr\"] = sales_afresh\n",
    "    ipo_file.loc[ipo_file[\"RS Rating\"] == \"-\", \"RS Rating\"] = 0\n",
    "    ipo_file.insert(2, \">2 Months\", \"\")\n",
    "    ipo_file.insert(3, \">400K Volume\", \"\")\n",
    "    ipo_file.insert(4, \"EPS/Sales >50\", \"\")\n",
    "    ipo_file.insert(5, \"IBD/WAM\", \"\")\n",
    "    ipo_file.insert(6, \"WAM\", \"\")\n",
    "\n",
    "    # Volume check\n",
    "    for remark in range(len(ipo_file[\"Order\"])):\n",
    "        if ipo_file[\"Volume (1000s)\"][remark] >= 400:\n",
    "            ipo_file[\">400K Volume\"][remark] = \"Yes\"\n",
    "        else:\n",
    "            ipo_file[\">400K Volume\"][remark] = \"\"\n",
    "\n",
    "    # EPS/Sales check\n",
    "    for remark in range(len(ipo_file[\"Order\"])):\n",
    "        if ipo_file[\"EPS % Chg Last Qtr\"][remark] >= 50:\n",
    "            ipo_file[\"EPS/Sales >50\"][remark] = \"Yes\"\n",
    "        elif ipo_file[\"Sales % Chg Lst Qtr\"][remark] >= 50:\n",
    "            ipo_file[\"EPS/Sales >50\"][remark] = \"Yes\"\n",
    "        else:\n",
    "            ipo_file[\"EPS/Sales >50\"][remark] = \"\"\n",
    "\n",
    "    # IBD check\n",
    "    for remark in range(len(ipo_file[\"Order\"])):\n",
    "        if ipo_file[\"RS Rating\"][remark] >= 90:\n",
    "            ipo_file[\"IBD/WAM\"][remark] = \"Yes\"\n",
    "\n",
    "    # Date check\n",
    "    for remark in range(len(ipo_file[\"Order\"])):\n",
    "        refer_date_old = old_date\n",
    "        refer_date_new = new_date\n",
    "        ipo_date = ipo_file[\"IPO Date\"][remark]\n",
    "        ipo_adj = time.strptime(ipo_date, \"%Y-%m-%d\")\n",
    "        refer_adj = time.strptime(refer_date_old, \"%Y-%m-%d\")\n",
    "        refer_adj_new = time.strptime(refer_date_new, \"%Y-%m-%d\")\n",
    "        if refer_adj < ipo_adj < refer_adj_new:\n",
    "            ipo_file[\">2 Months\"][remark] = \"Yes\"\n",
    "        else:\n",
    "            ipo_file[\">2 Months\"][remark] = \"\"\n",
    "\n",
    "    ipo_file.to_excel(f\"C:/Users/krish/Trading Dropbox/Krishna Chaitanya/Process/Stalking/DailyStalking/\"\n",
    "                      f\"2024/05.May/IPO/{file}.xlsx\", index=0)\n",
    "    print(\"Completed\")\n"
   ]
  },
  {
   "cell_type": "code",
   "execution_count": 3,
   "metadata": {},
   "outputs": [
    {
     "name": "stderr",
     "output_type": "stream",
     "text": [
      "<ipython-input-2-2731530bbb7b>:38: SettingWithCopyWarning: \n",
      "A value is trying to be set on a copy of a slice from a DataFrame\n",
      "\n",
      "See the caveats in the documentation: https://pandas.pydata.org/pandas-docs/stable/user_guide/indexing.html#returning-a-view-versus-a-copy\n",
      "  ipo_file[\">400K Volume\"][remark] = \"\"\n",
      "<ipython-input-2-2731530bbb7b>:36: SettingWithCopyWarning: \n",
      "A value is trying to be set on a copy of a slice from a DataFrame\n",
      "\n",
      "See the caveats in the documentation: https://pandas.pydata.org/pandas-docs/stable/user_guide/indexing.html#returning-a-view-versus-a-copy\n",
      "  ipo_file[\">400K Volume\"][remark] = \"Yes\"\n",
      "<ipython-input-2-2731530bbb7b>:47: SettingWithCopyWarning: \n",
      "A value is trying to be set on a copy of a slice from a DataFrame\n",
      "\n",
      "See the caveats in the documentation: https://pandas.pydata.org/pandas-docs/stable/user_guide/indexing.html#returning-a-view-versus-a-copy\n",
      "  ipo_file[\"EPS/Sales >50\"][remark] = \"\"\n",
      "<ipython-input-2-2731530bbb7b>:45: SettingWithCopyWarning: \n",
      "A value is trying to be set on a copy of a slice from a DataFrame\n",
      "\n",
      "See the caveats in the documentation: https://pandas.pydata.org/pandas-docs/stable/user_guide/indexing.html#returning-a-view-versus-a-copy\n",
      "  ipo_file[\"EPS/Sales >50\"][remark] = \"Yes\"\n",
      "<ipython-input-2-2731530bbb7b>:43: SettingWithCopyWarning: \n",
      "A value is trying to be set on a copy of a slice from a DataFrame\n",
      "\n",
      "See the caveats in the documentation: https://pandas.pydata.org/pandas-docs/stable/user_guide/indexing.html#returning-a-view-versus-a-copy\n",
      "  ipo_file[\"EPS/Sales >50\"][remark] = \"Yes\"\n",
      "<ipython-input-2-2731530bbb7b>:52: SettingWithCopyWarning: \n",
      "A value is trying to be set on a copy of a slice from a DataFrame\n",
      "\n",
      "See the caveats in the documentation: https://pandas.pydata.org/pandas-docs/stable/user_guide/indexing.html#returning-a-view-versus-a-copy\n",
      "  ipo_file[\"IBD/WAM\"][remark] = \"Yes\"\n",
      "<ipython-input-2-2731530bbb7b>:63: SettingWithCopyWarning: \n",
      "A value is trying to be set on a copy of a slice from a DataFrame\n",
      "\n",
      "See the caveats in the documentation: https://pandas.pydata.org/pandas-docs/stable/user_guide/indexing.html#returning-a-view-versus-a-copy\n",
      "  ipo_file[\">2 Months\"][remark] = \"Yes\"\n",
      "<ipython-input-2-2731530bbb7b>:65: SettingWithCopyWarning: \n",
      "A value is trying to be set on a copy of a slice from a DataFrame\n",
      "\n",
      "See the caveats in the documentation: https://pandas.pydata.org/pandas-docs/stable/user_guide/indexing.html#returning-a-view-versus-a-copy\n",
      "  ipo_file[\">2 Months\"][remark] = \"\"\n"
     ]
    },
    {
     "name": "stdout",
     "output_type": "stream",
     "text": [
      "Completed\n"
     ]
    }
   ],
   "source": [
    "ipo(file=\"IPO-0509\", old_date=\"2022-11-09\", new_date=\"2024-03-09\")"
   ]
  },
  {
   "cell_type": "code",
   "execution_count": null,
   "metadata": {},
   "outputs": [],
   "source": []
  }
 ],
 "metadata": {
  "kernelspec": {
   "display_name": "Python 3",
   "language": "python",
   "name": "python3"
  },
  "language_info": {
   "codemirror_mode": {
    "name": "ipython",
    "version": 3
   },
   "file_extension": ".py",
   "mimetype": "text/x-python",
   "name": "python",
   "nbconvert_exporter": "python",
   "pygments_lexer": "ipython3",
   "version": "3.8.5"
  }
 },
 "nbformat": 4,
 "nbformat_minor": 4
}
