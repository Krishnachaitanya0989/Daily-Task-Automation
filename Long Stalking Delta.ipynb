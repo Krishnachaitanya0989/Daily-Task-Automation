{
 "cells": [
  {
   "cell_type": "code",
   "execution_count": 1,
   "metadata": {},
   "outputs": [],
   "source": [
    "import pandas as pd"
   ]
  },
  {
   "cell_type": "code",
   "execution_count": 2,
   "metadata": {},
   "outputs": [],
   "source": [
    "# Reads previous day's long stalking file and Mark's list. Adds delta to current day's stalking list\n",
    "\n",
    "def delta(old_stalking_file, new_stalking_file, marks_list):\n",
    "    stalking_file = pd.read_excel(f\"C:/Users/krish/Trading Dropbox/Krishna Chaitanya/Process/Stalking/DailyStalking/\"\n",
    "                                  f\"2024/05.May/Long/{old_stalking_file}.xlsx\")\n",
    "    marks_file = pd.read_excel(f\"C:/Users/krish/OneDrive/Desktop/DailyStalking/{marks_list}.xlsx\",\n",
    "                              usecols=[0], names=['Ticker'])\n",
    "    mark_file_list = marks_file['Ticker'].to_list()\n",
    "    stalking_file_list = stalking_file['Ticker'].to_list()\n",
    "    add_ticker = [tick for tick in mark_file_list if tick not in stalking_file_list]\n",
    "    if 'Ticker' in add_ticker:\n",
    "        add_ticker.remove('Ticker')\n",
    "\n",
    "    # Adding blank rows with added tickers\n",
    "    for tick in add_ticker:\n",
    "        stalking_file = stalking_file.append({\n",
    "            'Ticker': tick\n",
    "        }, ignore_index=True)\n",
    "    stalking_file = stalking_file.sort_values(by=['Ticker'])\n",
    "    \n",
    "    print(add_ticker)\n",
    "\n",
    "    stalking_file.to_excel(\"C:/Users/krish/Trading Dropbox/Krishna Chaitanya/Process/Stalking/DailyStalking/2024/\"\n",
    "                           f\"05.May/Long/{new_stalking_file}.xlsx\", index=False)"
   ]
  },
  {
   "cell_type": "code",
   "execution_count": 3,
   "metadata": {},
   "outputs": [
    {
     "name": "stdout",
     "output_type": "stream",
     "text": [
      "['LPG']\n"
     ]
    }
   ],
   "source": [
    "delta(old_stalking_file=\"05-08\", new_stalking_file=\"05-09\", marks_list=\"markListd050924-long-big\")"
   ]
  }
 ],
 "metadata": {
  "kernelspec": {
   "display_name": "Python 3",
   "language": "python",
   "name": "python3"
  },
  "language_info": {
   "codemirror_mode": {
    "name": "ipython",
    "version": 3
   },
   "file_extension": ".py",
   "mimetype": "text/x-python",
   "name": "python",
   "nbconvert_exporter": "python",
   "pygments_lexer": "ipython3",
   "version": "3.8.5"
  }
 },
 "nbformat": 4,
 "nbformat_minor": 4
}
