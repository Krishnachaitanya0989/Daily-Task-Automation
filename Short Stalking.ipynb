{
 "cells": [
  {
   "cell_type": "code",
   "execution_count": 1,
   "metadata": {},
   "outputs": [],
   "source": [
    "import pandas as pd"
   ]
  },
  {
   "cell_type": "code",
   "execution_count": 2,
   "metadata": {},
   "outputs": [],
   "source": [
    "def short_to_excel(old_file, new_file, marketsmith_file):\n",
    "    # Reading files\n",
    "    \n",
    "    short_stalking = pd.read_excel(f\"C:/Users/krish/Trading Dropbox/Krishna Chaitanya/Process/Stalking/\"\n",
    "                                   f\"DailyStalking/2024/05.May/Shorts/{old_file}.xlsx\", sheet_name=\"Sheet1\")\n",
    "    short_marketSmith = pd.read_excel(f\"C:/Users/krish/Downloads/{marketsmith_file}.xlsx\")\n",
    "\n",
    "    # Replacing data\n",
    "    short_stalking[\"Ind Rank\"] = short_marketSmith[\"Ind Group Rank\"]\n",
    "    short_stalking[\"IBD\"] = short_marketSmith[\"RS Rating\"]\n",
    "    short_stalking[\"Industry Group\"] = short_marketSmith[\"Industry Name\"]\n",
    "    short_stalking[\"EPS Due Date\"] = short_marketSmith[\"EPS Due Date\"]\n",
    "    short_stalking[\"EPS\"] = short_marketSmith[\"EPS % Chg Last Qtr\"]\n",
    "    short_stalking[\"Sales\"] = short_marketSmith[\"Sales % Chg Lst Qtr\"]\n",
    "    short_stalking[\"WAM\"] = [\"\" for char in range(len(short_stalking[\"Ind Rank\"]))]\n",
    "    short_stalking[\"Pattern\"] = [\"\" for char in range(len(short_stalking[\"Ind Rank\"]))]\n",
    "    short_stalking[\"50-Day Avg Vol (1000s)\"] = short_marketSmith[\"50-Day Avg Vol (1000s)\"]\n",
    "    short_stalking[\"Volume (1000s)\"] = short_marketSmith[\"Volume (1000s)\"]\n",
    "    short_stalking[\"% of Volume\"] = round(short_stalking[\"Volume (1000s)\"]/short_stalking[\"50-Day Avg Vol (1000s)\"], 2)\n",
    "    short_stalking[\"Price % Chg\"] = short_marketSmith[\"Price % Chg\"]\n",
    "    short_stalking[\"C-Price\"] = short_marketSmith[\"Current Price\"]\n",
    "    \n",
    "    # Runner Logic\n",
    "    comment_list = short_stalking['Comment'].to_list()\n",
    "    c_price_list = short_stalking['C-Price'].to_list()\n",
    "    final_alert_price = short_stalking['Final Alert'].to_list()\n",
    "    bo = []\n",
    "    for tick in range(len(short_stalking['Ticker'])):\n",
    "        if comment_list[tick] == 'Runner':\n",
    "            bo.append('Runner')\n",
    "        elif comment_list[tick] == 'Basing':\n",
    "            if c_price_list[tick] < final_alert_price[tick]:\n",
    "                bo.append('Runner')\n",
    "            else:\n",
    "                bo.append('Basing')\n",
    "        else:\n",
    "            bo.append('Check')\n",
    "    short_stalking['Comment'] = bo\n",
    "\n",
    "    # Creating new DataFrame\n",
    "    short_stalking_latest = short_stalking\n",
    "\n",
    "    # Saving short_stalking_latest to new excel\n",
    "    short_stalking_latest.to_excel(f\"C:/Users/krish/Trading Dropbox/Krishna Chaitanya/Process/Stalking/\"\n",
    "                                   f\"DailyStalking/2024/05.May/Shorts/{new_file}.xlsx\", index=False)"
   ]
  },
  {
   "cell_type": "code",
   "execution_count": 3,
   "metadata": {},
   "outputs": [],
   "source": [
    "short_to_excel(old_file=\"0509\", new_file=\"0509\", marketsmith_file=\"StalkingShort - 2024-05-10T123909.342\")"
   ]
  },
  {
   "cell_type": "raw",
   "metadata": {},
   "source": []
  }
 ],
 "metadata": {
  "kernelspec": {
   "display_name": "Python 3",
   "language": "python",
   "name": "python3"
  },
  "language_info": {
   "codemirror_mode": {
    "name": "ipython",
    "version": 3
   },
   "file_extension": ".py",
   "mimetype": "text/x-python",
   "name": "python",
   "nbconvert_exporter": "python",
   "pygments_lexer": "ipython3",
   "version": "3.8.5"
  }
 },
 "nbformat": 4,
 "nbformat_minor": 4
}
